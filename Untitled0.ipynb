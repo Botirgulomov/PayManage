{
  "nbformat": 4,
  "nbformat_minor": 0,
  "metadata": {
    "colab": {
      "provenance": [],
      "authorship_tag": "ABX9TyMQgBkjMwfurXfJPz3OXv+b",
      "include_colab_link": true
    },
    "kernelspec": {
      "name": "python3",
      "display_name": "Python 3"
    },
    "language_info": {
      "name": "python"
    }
  },
  "cells": [
    {
      "cell_type": "markdown",
      "metadata": {
        "id": "view-in-github",
        "colab_type": "text"
      },
      "source": [
        "<a href=\"https://colab.research.google.com/github/Botirgulomov/PayManage/blob/main/Untitled0.ipynb\" target=\"_parent\"><img src=\"https://colab.research.google.com/assets/colab-badge.svg\" alt=\"Open In Colab\"/></a>"
      ]
    },
    {
      "cell_type": "code",
      "execution_count": 2,
      "metadata": {
        "colab": {
          "base_uri": "https://localhost:8080/",
          "height": 516
        },
        "id": "CN6gMh-r3WrQ",
        "outputId": "b2a2d245-106b-4999-b4e5-dccbef25a543"
      },
      "outputs": [
        {
          "output_type": "stream",
          "name": "stdout",
          "text": [
            "Collecting google-cloud-pubsub\n",
            "  Downloading google_cloud_pubsub-2.21.2-py2.py3-none-any.whl (273 kB)\n",
            "\u001b[?25l     \u001b[90m━━━━━━━━━━━━━━━━━━━━━━━━━━━━━━━━━━━━━━━━\u001b[0m \u001b[32m0.0/273.2 kB\u001b[0m \u001b[31m?\u001b[0m eta \u001b[36m-:--:--\u001b[0m\r\u001b[2K     \u001b[91m━━━━━━━━━━━━━━━━━━━━━━━━━━━━━━━━\u001b[0m\u001b[91m╸\u001b[0m\u001b[90m━━━━━━━\u001b[0m \u001b[32m225.3/273.2 kB\u001b[0m \u001b[31m6.7 MB/s\u001b[0m eta \u001b[36m0:00:01\u001b[0m\r\u001b[2K     \u001b[90m━━━━━━━━━━━━━━━━━━━━━━━━━━━━━━━━━━━━━━━━\u001b[0m \u001b[32m273.2/273.2 kB\u001b[0m \u001b[31m5.9 MB/s\u001b[0m eta \u001b[36m0:00:00\u001b[0m\n",
            "\u001b[?25hRequirement already satisfied: grpcio<2.0dev,>=1.51.3 in /usr/local/lib/python3.10/dist-packages (from google-cloud-pubsub) (1.64.1)\n",
            "Requirement already satisfied: google-auth<3.0.0dev,>=2.14.1 in /usr/local/lib/python3.10/dist-packages (from google-cloud-pubsub) (2.27.0)\n",
            "Requirement already satisfied: google-api-core[grpc]!=2.0.*,!=2.1.*,!=2.10.*,!=2.2.*,!=2.3.*,!=2.4.*,!=2.5.*,!=2.6.*,!=2.7.*,!=2.8.*,!=2.9.*,<3.0.0dev,>=1.34.0 in /usr/local/lib/python3.10/dist-packages (from google-cloud-pubsub) (2.11.1)\n",
            "Requirement already satisfied: proto-plus<2.0.0dev,>=1.22.0 in /usr/local/lib/python3.10/dist-packages (from google-cloud-pubsub) (1.23.0)\n",
            "Requirement already satisfied: protobuf!=3.20.0,!=3.20.1,!=4.21.0,!=4.21.1,!=4.21.2,!=4.21.3,!=4.21.4,!=4.21.5,<5.0.0dev,>=3.19.5 in /usr/local/lib/python3.10/dist-packages (from google-cloud-pubsub) (3.20.3)\n",
            "Requirement already satisfied: grpc-google-iam-v1<1.0.0dev,>=0.12.4 in /usr/local/lib/python3.10/dist-packages (from google-cloud-pubsub) (0.13.0)\n",
            "Requirement already satisfied: grpcio-status>=1.33.2 in /usr/local/lib/python3.10/dist-packages (from google-cloud-pubsub) (1.48.2)\n",
            "Requirement already satisfied: googleapis-common-protos<2.0.dev0,>=1.56.2 in /usr/local/lib/python3.10/dist-packages (from google-api-core[grpc]!=2.0.*,!=2.1.*,!=2.10.*,!=2.2.*,!=2.3.*,!=2.4.*,!=2.5.*,!=2.6.*,!=2.7.*,!=2.8.*,!=2.9.*,<3.0.0dev,>=1.34.0->google-cloud-pubsub) (1.63.1)\n",
            "Requirement already satisfied: requests<3.0.0.dev0,>=2.18.0 in /usr/local/lib/python3.10/dist-packages (from google-api-core[grpc]!=2.0.*,!=2.1.*,!=2.10.*,!=2.2.*,!=2.3.*,!=2.4.*,!=2.5.*,!=2.6.*,!=2.7.*,!=2.8.*,!=2.9.*,<3.0.0dev,>=1.34.0->google-cloud-pubsub) (2.31.0)\n",
            "Requirement already satisfied: cachetools<6.0,>=2.0.0 in /usr/local/lib/python3.10/dist-packages (from google-auth<3.0.0dev,>=2.14.1->google-cloud-pubsub) (5.3.3)\n",
            "Requirement already satisfied: pyasn1-modules>=0.2.1 in /usr/local/lib/python3.10/dist-packages (from google-auth<3.0.0dev,>=2.14.1->google-cloud-pubsub) (0.4.0)\n",
            "Requirement already satisfied: rsa<5,>=3.1.4 in /usr/local/lib/python3.10/dist-packages (from google-auth<3.0.0dev,>=2.14.1->google-cloud-pubsub) (4.9)\n",
            "Requirement already satisfied: pyasn1<0.7.0,>=0.4.6 in /usr/local/lib/python3.10/dist-packages (from pyasn1-modules>=0.2.1->google-auth<3.0.0dev,>=2.14.1->google-cloud-pubsub) (0.6.0)\n",
            "Requirement already satisfied: charset-normalizer<4,>=2 in /usr/local/lib/python3.10/dist-packages (from requests<3.0.0.dev0,>=2.18.0->google-api-core[grpc]!=2.0.*,!=2.1.*,!=2.10.*,!=2.2.*,!=2.3.*,!=2.4.*,!=2.5.*,!=2.6.*,!=2.7.*,!=2.8.*,!=2.9.*,<3.0.0dev,>=1.34.0->google-cloud-pubsub) (3.3.2)\n",
            "Requirement already satisfied: idna<4,>=2.5 in /usr/local/lib/python3.10/dist-packages (from requests<3.0.0.dev0,>=2.18.0->google-api-core[grpc]!=2.0.*,!=2.1.*,!=2.10.*,!=2.2.*,!=2.3.*,!=2.4.*,!=2.5.*,!=2.6.*,!=2.7.*,!=2.8.*,!=2.9.*,<3.0.0dev,>=1.34.0->google-cloud-pubsub) (3.7)\n",
            "Requirement already satisfied: urllib3<3,>=1.21.1 in /usr/local/lib/python3.10/dist-packages (from requests<3.0.0.dev0,>=2.18.0->google-api-core[grpc]!=2.0.*,!=2.1.*,!=2.10.*,!=2.2.*,!=2.3.*,!=2.4.*,!=2.5.*,!=2.6.*,!=2.7.*,!=2.8.*,!=2.9.*,<3.0.0dev,>=1.34.0->google-cloud-pubsub) (2.0.7)\n",
            "Requirement already satisfied: certifi>=2017.4.17 in /usr/local/lib/python3.10/dist-packages (from requests<3.0.0.dev0,>=2.18.0->google-api-core[grpc]!=2.0.*,!=2.1.*,!=2.10.*,!=2.2.*,!=2.3.*,!=2.4.*,!=2.5.*,!=2.6.*,!=2.7.*,!=2.8.*,!=2.9.*,<3.0.0dev,>=1.34.0->google-cloud-pubsub) (2024.6.2)\n",
            "Installing collected packages: google-cloud-pubsub\n",
            "Successfully installed google-cloud-pubsub-2.21.2\n"
          ]
        },
        {
          "output_type": "display_data",
          "data": {
            "application/vnd.colab-display-data+json": {
              "pip_warning": {
                "packages": [
                  "google"
                ]
              },
              "id": "05694a0f902c47b296e45e7004bc6bb7"
            }
          },
          "metadata": {}
        }
      ],
      "source": [
        "!pip install google-cloud-pubsub"
      ]
    },
    {
      "cell_type": "code",
      "source": [
        "\"\"\"\n",
        "Программа для загрузки данных, подготовки модели и публикации торговых сигналов.\n",
        "Автор: [Botir B.A.]\n",
        "Дата: [7.6.2024]\n",
        "\"\"\"\n",
        "\n",
        "import os\n",
        "import pandas as pd\n",
        "import numpy as np\n",
        "import tensorflow as tf\n",
        "from tensorflow.keras.models import Sequential\n",
        "from tensorflow.keras.layers import LSTM, Dense, Dropout, BatchNormalization\n",
        "from tensorflow.keras.optimizers import Adam\n",
        "from tensorflow.keras.callbacks import EarlyStopping\n",
        "from google.cloud import storage, pubsub_v1\n",
        "import optuna\n",
        "from sklearn.model_selection import train_test_split\n",
        "from sklearn.preprocessing import MinMaxScaler\n",
        "\n",
        "# Ensure you have the GOOGLE_APPLICATION_CREDENTIALS environment variable set\n",
        "os.environ[\"GOOGLE_APPLICATION_CREDENTIALS\"] = \"/path/to/your/service-account-file.json\"\n",
        "\n",
        "def load_data_from_gcs(bucket_name, file_name):\n",
        "    \"\"\"\n",
        "    Загрузка данных из Google Cloud Storage.\n",
        "\n",
        "    Аргументы:\n",
        "        bucket_name (str): Название bucket'а.\n",
        "        file_name (str): Название файла.\n",
        "\n",
        "    Возвращает:\n",
        "        DataFrame: Загруженные данные.\n",
        "    \"\"\"\n",
        "    try:\n",
        "        client = storage.Client()\n",
        "        bucket = client.bucket(bucket_name)\n",
        "        blob = bucket.blob(file_name)\n",
        "        data = blob.download_as_string()\n",
        "        df = pd.read_csv(pd.compat.StringIO(data.decode('utf-8')))\n",
        "        return df\n",
        "    except Exception as e:\n",
        "        print(f\"Error loading data from GCS: {e}\")\n",
        "        return None\n",
        "\n",
        "def load_data_from_csv(file_path):\n",
        "    \"\"\"\n",
        "    Загрузка данных из локального CSV файла.\n",
        "\n",
        "    Аргументы:\n",
        "        file_path (str): Путь к файлу.\n",
        "\n",
        "    Возвращает:\n",
        "        DataFrame: Загруженные данные.\n",
        "    \"\"\"\n",
        "    try:\n",
        "        data = pd.read_csv(file_path)\n",
        "        return data\n",
        "    except Exception as e:\n",
        "        print(f\"Error loading data from CSV: {e}\")\n",
        "        return None\n",
        "\n",
        "def prepare_data(data, sequence_length=10):\n",
        "    \"\"\"\n",
        "    Подготовка данных для модели LSTM.\n",
        "\n",
        "    Аргументы:\n",
        "        data (DataFrame): Данные для подготовки.\n",
        "        sequence_length (int): Длина последовательности.\n",
        "\n",
        "    Возвращает:\n",
        "        tuple: Подготовленные данные и масштабировщик.\n",
        "    \"\"\"\n",
        "    scaler = MinMaxScaler()\n",
        "    scaled_data = scaler.fit_transform(data[['Close']])\n",
        "\n",
        "    X, y = [], []\n",
        "    for i in range(len(scaled_data) - sequence_length):\n",
        "        X.append(scaled_data[i:i + sequence_length])\n",
        "        y.append(scaled_data[i + sequence_length])\n",
        "\n",
        "    X, y = np.array(X), np.array(y)\n",
        "    X_train, X_val, y_train, y_val = train_test_split(X, y, test_size=0.2, random_state=42)\n",
        "    return X_train, y_train, X_val, y_val, scaler\n",
        "\n",
        "def create_and_train_model(X_train, y_train, X_val, y_val, params):\n",
        "    \"\"\"\n",
        "    Создание и обучение модели LSTM с регуляризацией и ранней остановкой.\n",
        "\n",
        "    Аргументы:\n",
        "        X_train (array): Обучающие данные.\n",
        "        y_train (array): Метки обучающих данных.\n",
        "        X_val (array): Валидационные данные.\n",
        "        y_val (array): Метки валидационных данных.\n",
        "        params (dict): Гиперпараметры модели.\n",
        "\n",
        "    Возвращает:\n",
        "        Model: Обученная модель.\n",
        "    \"\"\"\n",
        "    model = Sequential()\n",
        "    model.add(LSTM(params['units'], return_sequences=True, input_shape=(X_train.shape[1], X_train.shape[2]), kernel_regularizer=tf.keras.regularizers.l2(params['l2'])))\n",
        "    model.add(BatchNormalization())\n",
        "    model.add(Dropout(params['dropout']))\n",
        "    model.add(LSTM(params['units'], kernel_regularizer=tf.keras.regularizers.l2(params['l2'])))\n",
        "    model.add(BatchNormalization())\n",
        "    model.add(Dropout(params['dropout']))\n",
        "    model.add(Dense(1))\n",
        "\n",
        "    optimizer = Adam(learning_rate=params['learning_rate'])\n",
        "    model.compile(optimizer=optimizer, loss='mean_squared_error')\n",
        "\n",
        "    early_stopping = EarlyStopping(monitor='val_loss', patience=10, restore_best_weights=True)\n",
        "\n",
        "    model.fit(X_train, y_train, epochs=params['epochs'], batch_size=params['batch_size'], validation_data=(X_val, y_val), callbacks=[early_stopping], verbose=2)\n",
        "    return model\n",
        "\n",
        "def objective(trial):\n",
        "    \"\"\"\n",
        "    Оптимизационная функция для подбора гиперпараметров с использованием Optuna.\n",
        "\n",
        "    Аргументы:\n",
        "        trial (Trial): Объект trial из Optuna.\n",
        "\n",
        "    Возвращает:\n",
        "        float: Значение функции потерь на валидационных данных.\n",
        "    \"\"\"\n",
        "    params = {\n",
        "        'units': trial.suggest_int('units', 50, 200),\n",
        "        'learning_rate': trial.suggest_loguniform('learning_rate', 1e-5, 1e-2),\n",
        "        'epochs': trial.suggest_int('epochs', 10, 100),\n",
        "        'batch_size': trial.suggest_int('batch_size', 16, 128),\n",
        "        'dropout': trial.suggest_uniform('dropout', 0.1, 0.5),\n",
        "        'l2': trial.suggest_loguniform('l2', 1e-6, 1e-3)\n",
        "    }\n",
        "\n",
        "    df = load_data_from_gcs('your_bucket_name', 'your_file_name.csv')\n",
        "    if df is None:\n",
        "        return float('inf')\n",
        "\n",
        "    X_train, y_train, X_val, y_val, _ = prepare_data(df)\n",
        "\n",
        "    model = create_and_train_model(X_train, y_train, X_val, y_val, params)\n",
        "\n",
        "    loss = model.evaluate(X_val, y_val, verbose=0)\n",
        "    return loss\n",
        "\n",
        "def publish_signals(signal):\n",
        "    \"\"\"\n",
        "    Публикация сигналов на Pub/Sub.\n",
        "\n",
        "    Аргументы:\n",
        "        signal (str): Сигнал для публикации.\n",
        "    \"\"\"\n",
        "    publisher = pubsub_v1.PublisherClient()\n",
        "    topic_path = publisher.topic_path('your-project-id', 'trading-signals')\n",
        "    try:\n",
        "        future = publisher.publish(topic_path, signal.encode('utf-8'))\n",
        "        future.result()\n",
        "    except Exception as e:\n",
        "        print(f\"Error publishing signal: {e}\")\n",
        "        raise\n",
        "\n",
        "def make_predictions(model, X):\n",
        "    \"\"\"\n",
        "    Создание прогнозов с использованием обученной модели.\n",
        "\n",
        "    Аргументы:\n",
        "        model (Model): Обученная модель.\n",
        "        X (array): Данные для прогнозирования.\n",
        "\n",
        "    Возвращает:\n",
        "        array: Прогнозы.\n",
        "    \"\"\"\n",
        "    try:\n",
        "        predictions = model.predict(X)\n",
        "        return predictions\n",
        "    except Exception as e:\n",
        "        print(f\"Error making predictions: {e}\")\n",
        "        raise\n",
        "\n",
        "def main():\n",
        "    \"\"\"\n",
        "    Основная функция для выполнения конвейера end-to-end.\n",
        "    \"\"\"\n",
        "    try:\n",
        "        study = optuna.create_study(direction='minimize')\n",
        "        study.optimize(objective, n_trials=50)\n",
        "\n",
        "        best_params = study.best_params\n",
        "        print(f\"Best parameters: {best_params}\")\n",
        "\n",
        "        data = load_data_from_gcs('your_bucket_name', 'your_file_name.csv')\n",
        "        if data is None:\n",
        "            raise Exception(\"Failed to load data\")\n",
        "\n",
        "        X_train, y_train, X_val, y_val, scaler = prepare_data(data)\n",
        "\n",
        "        model = create_and_train_model(X_train, y_train, X_val, y_val, best_params)\n",
        "\n",
        "        predictions = make_predictions(model, X_val)\n",
        "\n",
        "        for prediction in predictions:\n",
        "            signal = 'BUY' if prediction > 0 else 'SELL'\n",
        "            publish_signals(signal)\n",
        "\n",
        "    except Exception as e:\n",
        "        print(f\"Error in main execution: {e}\")\n",
        "\n",
        "if __name__ == \"__main__\":\n",
        "    main()"
      ],
      "metadata": {
        "colab": {
          "base_uri": "https://localhost:8080/"
        },
        "id": "I_PqIFa83dug",
        "outputId": "c1efc400-9a41-4975-a008-08e06d0e97f6"
      },
      "execution_count": 4,
      "outputs": [
        {
          "output_type": "stream",
          "name": "stderr",
          "text": [
            "[I 2024-06-07 13:33:29,677] A new study created in memory with name: no-name-3d06476d-35fc-4a9a-9de5-3378532e6588\n",
            "<ipython-input-4-6f7e80e018c3>:128: FutureWarning: suggest_loguniform has been deprecated in v3.0.0. This feature will be removed in v6.0.0. See https://github.com/optuna/optuna/releases/tag/v3.0.0. Use suggest_float(..., log=True) instead.\n",
            "  'learning_rate': trial.suggest_loguniform('learning_rate', 1e-5, 1e-2),\n",
            "<ipython-input-4-6f7e80e018c3>:131: FutureWarning: suggest_uniform has been deprecated in v3.0.0. This feature will be removed in v6.0.0. See https://github.com/optuna/optuna/releases/tag/v3.0.0. Use suggest_float instead.\n",
            "  'dropout': trial.suggest_uniform('dropout', 0.1, 0.5),\n",
            "<ipython-input-4-6f7e80e018c3>:132: FutureWarning: suggest_loguniform has been deprecated in v3.0.0. This feature will be removed in v6.0.0. See https://github.com/optuna/optuna/releases/tag/v3.0.0. Use suggest_float(..., log=True) instead.\n",
            "  'l2': trial.suggest_loguniform('l2', 1e-6, 1e-3)\n",
            "[I 2024-06-07 13:33:29,687] Trial 0 finished with value: inf and parameters: {'units': 110, 'learning_rate': 0.00033175590261775613, 'epochs': 31, 'batch_size': 98, 'dropout': 0.4622912169946234, 'l2': 2.7279118352781796e-06}. Best is trial 0 with value: inf.\n",
            "[I 2024-06-07 13:33:29,692] Trial 1 finished with value: inf and parameters: {'units': 111, 'learning_rate': 0.005207109673355264, 'epochs': 85, 'batch_size': 60, 'dropout': 0.1550147739574709, 'l2': 0.00010872193593286871}. Best is trial 0 with value: inf.\n",
            "[I 2024-06-07 13:33:29,697] Trial 2 finished with value: inf and parameters: {'units': 89, 'learning_rate': 0.00016664856628985052, 'epochs': 39, 'batch_size': 43, 'dropout': 0.2711421406755253, 'l2': 5.785443257406216e-05}. Best is trial 0 with value: inf.\n",
            "[I 2024-06-07 13:33:29,701] Trial 3 finished with value: inf and parameters: {'units': 142, 'learning_rate': 0.00018280298022522497, 'epochs': 78, 'batch_size': 97, 'dropout': 0.4637872604505455, 'l2': 1.9019719809923401e-06}. Best is trial 0 with value: inf.\n",
            "[I 2024-06-07 13:33:29,707] Trial 4 finished with value: inf and parameters: {'units': 97, 'learning_rate': 0.008715035267516408, 'epochs': 38, 'batch_size': 60, 'dropout': 0.3415529656980477, 'l2': 0.00017727896874516658}. Best is trial 0 with value: inf.\n",
            "[I 2024-06-07 13:33:29,711] Trial 5 finished with value: inf and parameters: {'units': 90, 'learning_rate': 0.002103163659937413, 'epochs': 10, 'batch_size': 104, 'dropout': 0.4527455577350866, 'l2': 1.531162075307131e-05}. Best is trial 0 with value: inf.\n",
            "[I 2024-06-07 13:33:29,717] Trial 6 finished with value: inf and parameters: {'units': 199, 'learning_rate': 1.0666510822292087e-05, 'epochs': 12, 'batch_size': 46, 'dropout': 0.31782249892322467, 'l2': 1.9176729248739973e-06}. Best is trial 0 with value: inf.\n",
            "[I 2024-06-07 13:33:29,721] Trial 7 finished with value: inf and parameters: {'units': 82, 'learning_rate': 0.009215986796685054, 'epochs': 16, 'batch_size': 45, 'dropout': 0.13897676831617323, 'l2': 3.5377261481973013e-05}. Best is trial 0 with value: inf.\n",
            "[I 2024-06-07 13:33:29,727] Trial 8 finished with value: inf and parameters: {'units': 142, 'learning_rate': 3.4000480198894726e-05, 'epochs': 22, 'batch_size': 119, 'dropout': 0.24263920357897778, 'l2': 0.00015746187148214926}. Best is trial 0 with value: inf.\n",
            "[I 2024-06-07 13:33:29,732] Trial 9 finished with value: inf and parameters: {'units': 198, 'learning_rate': 6.902836147371833e-05, 'epochs': 30, 'batch_size': 67, 'dropout': 0.4814970292233284, 'l2': 4.914164943411152e-06}. Best is trial 0 with value: inf.\n",
            "[I 2024-06-07 13:33:29,766] Trial 10 finished with value: inf and parameters: {'units': 51, 'learning_rate': 0.0008614693460422429, 'epochs': 59, 'batch_size': 20, 'dropout': 0.3979556160470504, 'l2': 0.000919087649861817}. Best is trial 0 with value: inf.\n",
            "[I 2024-06-07 13:33:29,801] Trial 11 finished with value: inf and parameters: {'units': 123, 'learning_rate': 0.0011682300377646327, 'epochs': 98, 'batch_size': 90, 'dropout': 0.10769466257037738, 'l2': 9.293107641733936e-06}. Best is trial 0 with value: inf.\n",
            "[I 2024-06-07 13:33:29,834] Trial 12 finished with value: inf and parameters: {'units': 121, 'learning_rate': 0.0028093742391857063, 'epochs': 62, 'batch_size': 81, 'dropout': 0.18687037196230027, 'l2': 9.999549380588379e-05}. Best is trial 0 with value: inf.\n",
            "[I 2024-06-07 13:33:29,870] Trial 13 finished with value: inf and parameters: {'units': 151, 'learning_rate': 0.00034522761398160626, 'epochs': 98, 'batch_size': 127, 'dropout': 0.20721682836086777, 'l2': 0.0004184090171803063}. Best is trial 0 with value: inf.\n"
          ]
        },
        {
          "output_type": "stream",
          "name": "stdout",
          "text": [
            "Error loading data from GCS: File /path/to/your/service-account-file.json was not found.\n",
            "Error loading data from GCS: File /path/to/your/service-account-file.json was not found.\n",
            "Error loading data from GCS: File /path/to/your/service-account-file.json was not found.\n",
            "Error loading data from GCS: File /path/to/your/service-account-file.json was not found.\n",
            "Error loading data from GCS: File /path/to/your/service-account-file.json was not found.\n",
            "Error loading data from GCS: File /path/to/your/service-account-file.json was not found.\n",
            "Error loading data from GCS: File /path/to/your/service-account-file.json was not found.\n",
            "Error loading data from GCS: File /path/to/your/service-account-file.json was not found.\n",
            "Error loading data from GCS: File /path/to/your/service-account-file.json was not found.\n",
            "Error loading data from GCS: File /path/to/your/service-account-file.json was not found.\n",
            "Error loading data from GCS: File /path/to/your/service-account-file.json was not found.\n",
            "Error loading data from GCS: File /path/to/your/service-account-file.json was not found.\n",
            "Error loading data from GCS: File /path/to/your/service-account-file.json was not found.\n",
            "Error loading data from GCS: File /path/to/your/service-account-file.json was not found.\n"
          ]
        },
        {
          "output_type": "stream",
          "name": "stderr",
          "text": [
            "[I 2024-06-07 13:33:29,913] Trial 14 finished with value: inf and parameters: {'units': 168, 'learning_rate': 0.0005494049312744885, 'epochs': 75, 'batch_size': 108, 'dropout': 0.37842492264164146, 'l2': 1.941948113400675e-05}. Best is trial 0 with value: inf.\n",
            "[I 2024-06-07 13:33:29,950] Trial 15 finished with value: inf and parameters: {'units': 109, 'learning_rate': 0.002096193140074705, 'epochs': 43, 'batch_size': 74, 'dropout': 0.40755709690412684, 'l2': 4.446973631742971e-06}. Best is trial 0 with value: inf.\n",
            "[I 2024-06-07 13:33:29,988] Trial 16 finished with value: inf and parameters: {'units': 64, 'learning_rate': 0.00458706273092749, 'epochs': 83, 'batch_size': 16, 'dropout': 0.17358880974649396, 'l2': 1.1373302148699306e-06}. Best is trial 0 with value: inf.\n",
            "[I 2024-06-07 13:33:30,024] Trial 17 finished with value: inf and parameters: {'units': 71, 'learning_rate': 3.6116631419950327e-05, 'epochs': 47, 'batch_size': 86, 'dropout': 0.2710293546481929, 'l2': 4.510796792582732e-05}. Best is trial 0 with value: inf.\n",
            "[I 2024-06-07 13:33:30,060] Trial 18 finished with value: inf and parameters: {'units': 105, 'learning_rate': 0.00010924052099710762, 'epochs': 67, 'batch_size': 56, 'dropout': 0.35571465021872956, 'l2': 0.00027010315354031447}. Best is trial 0 with value: inf.\n",
            "[I 2024-06-07 13:33:30,096] Trial 19 finished with value: inf and parameters: {'units': 114, 'learning_rate': 0.0003543338142416746, 'epochs': 88, 'batch_size': 112, 'dropout': 0.4280451691567143, 'l2': 6.593489629724311e-06}. Best is trial 0 with value: inf.\n"
          ]
        },
        {
          "output_type": "stream",
          "name": "stdout",
          "text": [
            "Error loading data from GCS: File /path/to/your/service-account-file.json was not found.\n",
            "Error loading data from GCS: File /path/to/your/service-account-file.json was not found.\n",
            "Error loading data from GCS: File /path/to/your/service-account-file.json was not found.\n",
            "Error loading data from GCS: File /path/to/your/service-account-file.json was not found.\n",
            "Error loading data from GCS: File /path/to/your/service-account-file.json was not found.\n",
            "Error loading data from GCS: File /path/to/your/service-account-file.json was not found.\n"
          ]
        },
        {
          "output_type": "stream",
          "name": "stderr",
          "text": [
            "[I 2024-06-07 13:33:30,140] Trial 20 finished with value: inf and parameters: {'units': 162, 'learning_rate': 0.001010727978135452, 'epochs': 51, 'batch_size': 75, 'dropout': 0.23434091438560412, 'l2': 7.930234430168918e-05}. Best is trial 0 with value: inf.\n",
            "[I 2024-06-07 13:33:30,179] Trial 21 finished with value: inf and parameters: {'units': 81, 'learning_rate': 0.00014494892125761275, 'epochs': 33, 'batch_size': 32, 'dropout': 0.28075515695865494, 'l2': 5.1001292556264453e-05}. Best is trial 0 with value: inf.\n",
            "[I 2024-06-07 13:33:30,217] Trial 22 finished with value: inf and parameters: {'units': 131, 'learning_rate': 6.412691558607412e-05, 'epochs': 25, 'batch_size': 44, 'dropout': 0.14869404969473343, 'l2': 1.8274119403975234e-05}. Best is trial 0 with value: inf.\n",
            "[I 2024-06-07 13:33:30,256] Trial 23 finished with value: inf and parameters: {'units': 95, 'learning_rate': 0.0001979720798783655, 'epochs': 36, 'batch_size': 33, 'dropout': 0.3083954329286366, 'l2': 8.674381309115447e-05}. Best is trial 0 with value: inf.\n",
            "[I 2024-06-07 13:33:30,302] Trial 24 finished with value: inf and parameters: {'units': 105, 'learning_rate': 1.6191164677458818e-05, 'epochs': 44, 'batch_size': 54, 'dropout': 0.24497240117649732, 'l2': 0.0005276601247698225}. Best is trial 0 with value: inf.\n"
          ]
        },
        {
          "output_type": "stream",
          "name": "stdout",
          "text": [
            "Error loading data from GCS: File /path/to/your/service-account-file.json was not found.\n",
            "Error loading data from GCS: File /path/to/your/service-account-file.json was not found.\n",
            "Error loading data from GCS: File /path/to/your/service-account-file.json was not found.\n",
            "Error loading data from GCS: File /path/to/your/service-account-file.json was not found.\n",
            "Error loading data from GCS: File /path/to/your/service-account-file.json was not found.\n"
          ]
        },
        {
          "output_type": "stream",
          "name": "stderr",
          "text": [
            "[I 2024-06-07 13:33:30,352] Trial 25 finished with value: inf and parameters: {'units': 132, 'learning_rate': 0.0005872286095862567, 'epochs': 69, 'batch_size': 64, 'dropout': 0.49651733974527623, 'l2': 2.990501553027983e-05}. Best is trial 0 with value: inf.\n",
            "[I 2024-06-07 13:33:30,390] Trial 26 finished with value: inf and parameters: {'units': 74, 'learning_rate': 0.004774283309787466, 'epochs': 55, 'batch_size': 33, 'dropout': 0.10135514249413596, 'l2': 0.0001351762603028954}. Best is trial 0 with value: inf.\n",
            "[I 2024-06-07 13:33:30,438] Trial 27 finished with value: inf and parameters: {'units': 60, 'learning_rate': 0.00025136595005372154, 'epochs': 26, 'batch_size': 98, 'dropout': 0.20916887141354862, 'l2': 0.00025680192582650094}. Best is trial 0 with value: inf.\n",
            "[I 2024-06-07 13:33:30,483] Trial 28 finished with value: inf and parameters: {'units': 87, 'learning_rate': 0.00010448294853011046, 'epochs': 18, 'batch_size': 51, 'dropout': 0.34166383422345287, 'l2': 5.9441037588376885e-05}. Best is trial 0 with value: inf.\n",
            "[I 2024-06-07 13:33:30,521] Trial 29 finished with value: inf and parameters: {'units': 117, 'learning_rate': 3.5504249162113804e-05, 'epochs': 88, 'batch_size': 92, 'dropout': 0.4496166767081237, 'l2': 3.0162833741217875e-06}. Best is trial 0 with value: inf.\n"
          ]
        },
        {
          "output_type": "stream",
          "name": "stdout",
          "text": [
            "Error loading data from GCS: File /path/to/your/service-account-file.json was not found.\n",
            "Error loading data from GCS: File /path/to/your/service-account-file.json was not found.\n",
            "Error loading data from GCS: File /path/to/your/service-account-file.json was not found.\n",
            "Error loading data from GCS: File /path/to/your/service-account-file.json was not found.\n",
            "Error loading data from GCS: File /path/to/your/service-account-file.json was not found.\n"
          ]
        },
        {
          "output_type": "stream",
          "name": "stderr",
          "text": [
            "[I 2024-06-07 13:33:30,564] Trial 30 finished with value: inf and parameters: {'units': 100, 'learning_rate': 0.0005261748812829676, 'epochs': 40, 'batch_size': 69, 'dropout': 0.2694898171564029, 'l2': 1.1839188388098783e-05}. Best is trial 0 with value: inf.\n",
            "[I 2024-06-07 13:33:30,603] Trial 31 finished with value: inf and parameters: {'units': 140, 'learning_rate': 0.00017920706255512, 'epochs': 80, 'batch_size': 95, 'dropout': 0.44739701523437614, 'l2': 1.2363105982244585e-06}. Best is trial 0 with value: inf.\n",
            "[I 2024-06-07 13:33:30,644] Trial 32 finished with value: inf and parameters: {'units': 178, 'learning_rate': 8.183489673808645e-05, 'epochs': 90, 'batch_size': 81, 'dropout': 0.48668798712262423, 'l2': 2.369849032337576e-06}. Best is trial 0 with value: inf.\n",
            "[I 2024-06-07 13:33:30,688] Trial 33 finished with value: inf and parameters: {'units': 95, 'learning_rate': 0.0014613046737706932, 'epochs': 74, 'batch_size': 101, 'dropout': 0.46591170720494507, 'l2': 1.5848390303509899e-06}. Best is trial 0 with value: inf.\n",
            "[I 2024-06-07 13:33:30,729] Trial 34 finished with value: inf and parameters: {'units': 151, 'learning_rate': 0.006338222247391172, 'epochs': 50, 'batch_size': 40, 'dropout': 0.4290270420857835, 'l2': 2.71313864830902e-05}. Best is trial 0 with value: inf.\n"
          ]
        },
        {
          "output_type": "stream",
          "name": "stdout",
          "text": [
            "Error loading data from GCS: File /path/to/your/service-account-file.json was not found.\n",
            "Error loading data from GCS: File /path/to/your/service-account-file.json was not found.\n",
            "Error loading data from GCS: File /path/to/your/service-account-file.json was not found.\n",
            "Error loading data from GCS: File /path/to/your/service-account-file.json was not found.\n",
            "Error loading data from GCS: File /path/to/your/service-account-file.json was not found.\n"
          ]
        },
        {
          "output_type": "stream",
          "name": "stderr",
          "text": [
            "[I 2024-06-07 13:33:30,771] Trial 35 finished with value: inf and parameters: {'units': 129, 'learning_rate': 0.00027025189741334714, 'epochs': 92, 'batch_size': 58, 'dropout': 0.36809853191853736, 'l2': 3.0118601609417645e-06}. Best is trial 0 with value: inf.\n",
            "[I 2024-06-07 13:33:30,813] Trial 36 finished with value: inf and parameters: {'units': 111, 'learning_rate': 4.93845783921526e-05, 'epochs': 80, 'batch_size': 115, 'dropout': 0.31781187846261866, 'l2': 7.853412512030962e-06}. Best is trial 0 with value: inf.\n",
            "[I 2024-06-07 13:33:30,852] Trial 37 finished with value: inf and parameters: {'units': 140, 'learning_rate': 2.4120365459060952e-05, 'epochs': 29, 'batch_size': 62, 'dropout': 0.40178281197761834, 'l2': 4.468141935383151e-06}. Best is trial 0 with value: inf.\n",
            "[I 2024-06-07 13:33:30,893] Trial 38 finished with value: inf and parameters: {'units': 87, 'learning_rate': 0.00014323669622720415, 'epochs': 36, 'batch_size': 84, 'dropout': 0.1393831482990375, 'l2': 1.988323492389806e-06}. Best is trial 0 with value: inf.\n",
            "[I 2024-06-07 13:33:30,934] Trial 39 finished with value: inf and parameters: {'units': 151, 'learning_rate': 0.0007030210741315211, 'epochs': 59, 'batch_size': 124, 'dropout': 0.46420386102080624, 'l2': 0.00020012999681748807}. Best is trial 0 with value: inf.\n"
          ]
        },
        {
          "output_type": "stream",
          "name": "stdout",
          "text": [
            "Error loading data from GCS: File /path/to/your/service-account-file.json was not found.\n",
            "Error loading data from GCS: File /path/to/your/service-account-file.json was not found.\n",
            "Error loading data from GCS: File /path/to/your/service-account-file.json was not found.\n",
            "Error loading data from GCS: File /path/to/your/service-account-file.json was not found.\n",
            "Error loading data from GCS: File /path/to/your/service-account-file.json was not found.\n"
          ]
        },
        {
          "output_type": "stream",
          "name": "stderr",
          "text": [
            "[I 2024-06-07 13:33:30,977] Trial 40 finished with value: inf and parameters: {'units': 101, 'learning_rate': 1.082473229268465e-05, 'epochs': 11, 'batch_size': 25, 'dropout': 0.16020631260851764, 'l2': 0.0001308885534750944}. Best is trial 0 with value: inf.\n",
            "[I 2024-06-07 13:33:31,018] Trial 41 finished with value: inf and parameters: {'units': 120, 'learning_rate': 0.007920751852157707, 'epochs': 37, 'batch_size': 49, 'dropout': 0.42093328255573675, 'l2': 7.4242113609816e-05}. Best is trial 0 with value: inf.\n",
            "[I 2024-06-07 13:33:31,059] Trial 42 finished with value: inf and parameters: {'units': 94, 'learning_rate': 0.0030205629263711916, 'epochs': 18, 'batch_size': 41, 'dropout': 0.37739689880188765, 'l2': 3.900400472232998e-05}. Best is trial 0 with value: inf.\n",
            "[I 2024-06-07 13:33:31,100] Trial 43 finished with value: inf and parameters: {'units': 80, 'learning_rate': 0.002044940488344703, 'epochs': 30, 'batch_size': 78, 'dropout': 0.33500512318273223, 'l2': 0.0004545405998273356}. Best is trial 0 with value: inf.\n",
            "[I 2024-06-07 13:33:31,140] Trial 44 finished with value: inf and parameters: {'units': 125, 'learning_rate': 0.003279462041340854, 'epochs': 42, 'batch_size': 70, 'dropout': 0.47271290175114333, 'l2': 0.00010806373477010634}. Best is trial 0 with value: inf.\n"
          ]
        },
        {
          "output_type": "stream",
          "name": "stdout",
          "text": [
            "Error loading data from GCS: File /path/to/your/service-account-file.json was not found.\n",
            "Error loading data from GCS: File /path/to/your/service-account-file.json was not found.\n",
            "Error loading data from GCS: File /path/to/your/service-account-file.json was not found.\n",
            "Error loading data from GCS: File /path/to/your/service-account-file.json was not found.\n",
            "Error loading data from GCS: File /path/to/your/service-account-file.json was not found.\n"
          ]
        },
        {
          "output_type": "stream",
          "name": "stderr",
          "text": [
            "[I 2024-06-07 13:33:31,183] Trial 45 finished with value: inf and parameters: {'units': 110, 'learning_rate': 0.009367395870424127, 'epochs': 22, 'batch_size': 105, 'dropout': 0.19850221290636083, 'l2': 0.00018740037891727421}. Best is trial 0 with value: inf.\n",
            "[I 2024-06-07 13:33:31,228] Trial 46 finished with value: inf and parameters: {'units': 90, 'learning_rate': 0.005814263090135144, 'epochs': 63, 'batch_size': 61, 'dropout': 0.23004608216293382, 'l2': 0.00031739460901885323}. Best is trial 0 with value: inf.\n",
            "[I 2024-06-07 13:33:31,272] Trial 47 finished with value: inf and parameters: {'units': 191, 'learning_rate': 0.00037775457085013946, 'epochs': 96, 'batch_size': 89, 'dropout': 0.11577026123839038, 'l2': 0.0006101613383754287}. Best is trial 0 with value: inf.\n",
            "[I 2024-06-07 13:33:31,314] Trial 48 finished with value: inf and parameters: {'units': 71, 'learning_rate': 0.0014678289746510895, 'epochs': 47, 'batch_size': 66, 'dropout': 0.29200275078460197, 'l2': 1.010842125092497e-06}. Best is trial 0 with value: inf.\n",
            "[I 2024-06-07 13:33:31,358] Trial 49 finished with value: inf and parameters: {'units': 104, 'learning_rate': 0.00043505757127945894, 'epochs': 74, 'batch_size': 46, 'dropout': 0.2538258484964429, 'l2': 1.2710995360848945e-05}. Best is trial 0 with value: inf.\n"
          ]
        },
        {
          "output_type": "stream",
          "name": "stdout",
          "text": [
            "Error loading data from GCS: File /path/to/your/service-account-file.json was not found.\n",
            "Error loading data from GCS: File /path/to/your/service-account-file.json was not found.\n",
            "Error loading data from GCS: File /path/to/your/service-account-file.json was not found.\n",
            "Error loading data from GCS: File /path/to/your/service-account-file.json was not found.\n",
            "Error loading data from GCS: File /path/to/your/service-account-file.json was not found.\n",
            "Best parameters: {'units': 110, 'learning_rate': 0.00033175590261775613, 'epochs': 31, 'batch_size': 98, 'dropout': 0.4622912169946234, 'l2': 2.7279118352781796e-06}\n",
            "Error loading data from GCS: File /path/to/your/service-account-file.json was not found.\n",
            "Error in main execution: Failed to load data\n"
          ]
        }
      ]
    },
    {
      "cell_type": "code",
      "source": [
        "from google.cloud import storage\n",
        "from google.cloud import pubsub_v1"
      ],
      "metadata": {
        "id": "5Ud6sdWn5mgz"
      },
      "execution_count": 2,
      "outputs": []
    },
    {
      "cell_type": "code",
      "source": [
        "# Установка необходимых пакетов (если выполняется в Jupyter Notebook или Google Colab)\n",
        "!pip install google-cloud-storage google-cloud-pubsub optuna scikit-learn tensorflow pandas numpy\n",
        "\n",
        "import os\n",
        "import pandas as pd\n",
        "import numpy as np\n",
        "import tensorflow as tf\n",
        "from tensorflow.keras.models import Sequential\n",
        "from tensorflow.keras.layers import LSTM, Dense, Dropout, BatchNormalization\n",
        "from tensorflow.keras.optimizers import Adam\n",
        "from tensorflow.keras.callbacks import EarlyStopping\n",
        "from google.cloud import storage\n",
        "from google.cloud import pubsub_v1\n",
        "import optuna\n",
        "from sklearn.model_selection import train_test_split\n",
        "from sklearn.preprocessing import MinMaxScaler\n",
        "\n",
        "# Ensure you have the GOOGLE_APPLICATION_CREDENTIALS environment variable set\n",
        "os.environ[\"GOOGLE_APPLICATION_CREDENTIALS\"] = \"/path/to/your/service-account-file.json\"\n",
        "\n",
        "# The rest of your code remains the same..."
      ],
      "metadata": {
        "colab": {
          "base_uri": "https://localhost:8080/"
        },
        "id": "x2fNERJR5uf_",
        "outputId": "229eaf12-d7b8-4302-fea5-75bda87b2406"
      },
      "execution_count": 3,
      "outputs": [
        {
          "output_type": "stream",
          "name": "stdout",
          "text": [
            "Requirement already satisfied: google-cloud-storage in /usr/local/lib/python3.10/dist-packages (2.8.0)\n",
            "Requirement already satisfied: google-cloud-pubsub in /usr/local/lib/python3.10/dist-packages (2.21.2)\n",
            "Collecting optuna\n",
            "  Downloading optuna-3.6.1-py3-none-any.whl (380 kB)\n",
            "\u001b[2K     \u001b[90m━━━━━━━━━━━━━━━━━━━━━━━━━━━━━━━━━━━━━━━━\u001b[0m \u001b[32m380.1/380.1 kB\u001b[0m \u001b[31m8.1 MB/s\u001b[0m eta \u001b[36m0:00:00\u001b[0m\n",
            "\u001b[?25hRequirement already satisfied: scikit-learn in /usr/local/lib/python3.10/dist-packages (1.2.2)\n",
            "Requirement already satisfied: tensorflow in /usr/local/lib/python3.10/dist-packages (2.15.0)\n",
            "Requirement already satisfied: pandas in /usr/local/lib/python3.10/dist-packages (2.0.3)\n",
            "Requirement already satisfied: numpy in /usr/local/lib/python3.10/dist-packages (1.25.2)\n",
            "Requirement already satisfied: google-auth<3.0dev,>=1.25.0 in /usr/local/lib/python3.10/dist-packages (from google-cloud-storage) (2.27.0)\n",
            "Requirement already satisfied: google-api-core!=2.0.*,!=2.1.*,!=2.2.*,!=2.3.0,<3.0.0dev,>=1.31.5 in /usr/local/lib/python3.10/dist-packages (from google-cloud-storage) (2.11.1)\n",
            "Requirement already satisfied: google-cloud-core<3.0dev,>=2.3.0 in /usr/local/lib/python3.10/dist-packages (from google-cloud-storage) (2.3.3)\n",
            "Requirement already satisfied: google-resumable-media>=2.3.2 in /usr/local/lib/python3.10/dist-packages (from google-cloud-storage) (2.7.0)\n",
            "Requirement already satisfied: requests<3.0.0dev,>=2.18.0 in /usr/local/lib/python3.10/dist-packages (from google-cloud-storage) (2.31.0)\n",
            "Requirement already satisfied: grpcio<2.0dev,>=1.51.3 in /usr/local/lib/python3.10/dist-packages (from google-cloud-pubsub) (1.64.1)\n",
            "Requirement already satisfied: proto-plus<2.0.0dev,>=1.22.0 in /usr/local/lib/python3.10/dist-packages (from google-cloud-pubsub) (1.23.0)\n",
            "Requirement already satisfied: protobuf!=3.20.0,!=3.20.1,!=4.21.0,!=4.21.1,!=4.21.2,!=4.21.3,!=4.21.4,!=4.21.5,<5.0.0dev,>=3.19.5 in /usr/local/lib/python3.10/dist-packages (from google-cloud-pubsub) (3.20.3)\n",
            "Requirement already satisfied: grpc-google-iam-v1<1.0.0dev,>=0.12.4 in /usr/local/lib/python3.10/dist-packages (from google-cloud-pubsub) (0.13.0)\n",
            "Requirement already satisfied: grpcio-status>=1.33.2 in /usr/local/lib/python3.10/dist-packages (from google-cloud-pubsub) (1.48.2)\n",
            "Collecting alembic>=1.5.0 (from optuna)\n",
            "  Downloading alembic-1.13.1-py3-none-any.whl (233 kB)\n",
            "\u001b[2K     \u001b[90m━━━━━━━━━━━━━━━━━━━━━━━━━━━━━━━━━━━━━━━━\u001b[0m \u001b[32m233.4/233.4 kB\u001b[0m \u001b[31m23.7 MB/s\u001b[0m eta \u001b[36m0:00:00\u001b[0m\n",
            "\u001b[?25hCollecting colorlog (from optuna)\n",
            "  Downloading colorlog-6.8.2-py3-none-any.whl (11 kB)\n",
            "Requirement already satisfied: packaging>=20.0 in /usr/local/lib/python3.10/dist-packages (from optuna) (24.0)\n",
            "Requirement already satisfied: sqlalchemy>=1.3.0 in /usr/local/lib/python3.10/dist-packages (from optuna) (2.0.30)\n",
            "Requirement already satisfied: tqdm in /usr/local/lib/python3.10/dist-packages (from optuna) (4.66.4)\n",
            "Requirement already satisfied: PyYAML in /usr/local/lib/python3.10/dist-packages (from optuna) (6.0.1)\n",
            "Requirement already satisfied: scipy>=1.3.2 in /usr/local/lib/python3.10/dist-packages (from scikit-learn) (1.11.4)\n",
            "Requirement already satisfied: joblib>=1.1.1 in /usr/local/lib/python3.10/dist-packages (from scikit-learn) (1.4.2)\n",
            "Requirement already satisfied: threadpoolctl>=2.0.0 in /usr/local/lib/python3.10/dist-packages (from scikit-learn) (3.5.0)\n",
            "Requirement already satisfied: absl-py>=1.0.0 in /usr/local/lib/python3.10/dist-packages (from tensorflow) (1.4.0)\n",
            "Requirement already satisfied: astunparse>=1.6.0 in /usr/local/lib/python3.10/dist-packages (from tensorflow) (1.6.3)\n",
            "Requirement already satisfied: flatbuffers>=23.5.26 in /usr/local/lib/python3.10/dist-packages (from tensorflow) (24.3.25)\n",
            "Requirement already satisfied: gast!=0.5.0,!=0.5.1,!=0.5.2,>=0.2.1 in /usr/local/lib/python3.10/dist-packages (from tensorflow) (0.5.4)\n",
            "Requirement already satisfied: google-pasta>=0.1.1 in /usr/local/lib/python3.10/dist-packages (from tensorflow) (0.2.0)\n",
            "Requirement already satisfied: h5py>=2.9.0 in /usr/local/lib/python3.10/dist-packages (from tensorflow) (3.9.0)\n",
            "Requirement already satisfied: libclang>=13.0.0 in /usr/local/lib/python3.10/dist-packages (from tensorflow) (18.1.1)\n",
            "Requirement already satisfied: ml-dtypes~=0.2.0 in /usr/local/lib/python3.10/dist-packages (from tensorflow) (0.2.0)\n",
            "Requirement already satisfied: opt-einsum>=2.3.2 in /usr/local/lib/python3.10/dist-packages (from tensorflow) (3.3.0)\n",
            "Requirement already satisfied: setuptools in /usr/local/lib/python3.10/dist-packages (from tensorflow) (67.7.2)\n",
            "Requirement already satisfied: six>=1.12.0 in /usr/local/lib/python3.10/dist-packages (from tensorflow) (1.16.0)\n",
            "Requirement already satisfied: termcolor>=1.1.0 in /usr/local/lib/python3.10/dist-packages (from tensorflow) (2.4.0)\n",
            "Requirement already satisfied: typing-extensions>=3.6.6 in /usr/local/lib/python3.10/dist-packages (from tensorflow) (4.12.1)\n",
            "Requirement already satisfied: wrapt<1.15,>=1.11.0 in /usr/local/lib/python3.10/dist-packages (from tensorflow) (1.14.1)\n",
            "Requirement already satisfied: tensorflow-io-gcs-filesystem>=0.23.1 in /usr/local/lib/python3.10/dist-packages (from tensorflow) (0.37.0)\n",
            "Requirement already satisfied: tensorboard<2.16,>=2.15 in /usr/local/lib/python3.10/dist-packages (from tensorflow) (2.15.2)\n",
            "Requirement already satisfied: tensorflow-estimator<2.16,>=2.15.0 in /usr/local/lib/python3.10/dist-packages (from tensorflow) (2.15.0)\n",
            "Requirement already satisfied: keras<2.16,>=2.15.0 in /usr/local/lib/python3.10/dist-packages (from tensorflow) (2.15.0)\n",
            "Requirement already satisfied: python-dateutil>=2.8.2 in /usr/local/lib/python3.10/dist-packages (from pandas) (2.8.2)\n",
            "Requirement already satisfied: pytz>=2020.1 in /usr/local/lib/python3.10/dist-packages (from pandas) (2023.4)\n",
            "Requirement already satisfied: tzdata>=2022.1 in /usr/local/lib/python3.10/dist-packages (from pandas) (2024.1)\n",
            "Collecting Mako (from alembic>=1.5.0->optuna)\n",
            "  Downloading Mako-1.3.5-py3-none-any.whl (78 kB)\n",
            "\u001b[2K     \u001b[90m━━━━━━━━━━━━━━━━━━━━━━━━━━━━━━━━━━━━━━━━\u001b[0m \u001b[32m78.6/78.6 kB\u001b[0m \u001b[31m10.4 MB/s\u001b[0m eta \u001b[36m0:00:00\u001b[0m\n",
            "\u001b[?25hRequirement already satisfied: wheel<1.0,>=0.23.0 in /usr/local/lib/python3.10/dist-packages (from astunparse>=1.6.0->tensorflow) (0.43.0)\n",
            "Requirement already satisfied: googleapis-common-protos<2.0.dev0,>=1.56.2 in /usr/local/lib/python3.10/dist-packages (from google-api-core!=2.0.*,!=2.1.*,!=2.2.*,!=2.3.0,<3.0.0dev,>=1.31.5->google-cloud-storage) (1.63.1)\n",
            "Requirement already satisfied: cachetools<6.0,>=2.0.0 in /usr/local/lib/python3.10/dist-packages (from google-auth<3.0dev,>=1.25.0->google-cloud-storage) (5.3.3)\n",
            "Requirement already satisfied: pyasn1-modules>=0.2.1 in /usr/local/lib/python3.10/dist-packages (from google-auth<3.0dev,>=1.25.0->google-cloud-storage) (0.4.0)\n",
            "Requirement already satisfied: rsa<5,>=3.1.4 in /usr/local/lib/python3.10/dist-packages (from google-auth<3.0dev,>=1.25.0->google-cloud-storage) (4.9)\n",
            "Requirement already satisfied: google-crc32c<2.0dev,>=1.0 in /usr/local/lib/python3.10/dist-packages (from google-resumable-media>=2.3.2->google-cloud-storage) (1.5.0)\n",
            "Requirement already satisfied: charset-normalizer<4,>=2 in /usr/local/lib/python3.10/dist-packages (from requests<3.0.0dev,>=2.18.0->google-cloud-storage) (3.3.2)\n",
            "Requirement already satisfied: idna<4,>=2.5 in /usr/local/lib/python3.10/dist-packages (from requests<3.0.0dev,>=2.18.0->google-cloud-storage) (3.7)\n",
            "Requirement already satisfied: urllib3<3,>=1.21.1 in /usr/local/lib/python3.10/dist-packages (from requests<3.0.0dev,>=2.18.0->google-cloud-storage) (2.0.7)\n",
            "Requirement already satisfied: certifi>=2017.4.17 in /usr/local/lib/python3.10/dist-packages (from requests<3.0.0dev,>=2.18.0->google-cloud-storage) (2024.6.2)\n",
            "Requirement already satisfied: greenlet!=0.4.17 in /usr/local/lib/python3.10/dist-packages (from sqlalchemy>=1.3.0->optuna) (3.0.3)\n",
            "Requirement already satisfied: google-auth-oauthlib<2,>=0.5 in /usr/local/lib/python3.10/dist-packages (from tensorboard<2.16,>=2.15->tensorflow) (1.2.0)\n",
            "Requirement already satisfied: markdown>=2.6.8 in /usr/local/lib/python3.10/dist-packages (from tensorboard<2.16,>=2.15->tensorflow) (3.6)\n",
            "Requirement already satisfied: tensorboard-data-server<0.8.0,>=0.7.0 in /usr/local/lib/python3.10/dist-packages (from tensorboard<2.16,>=2.15->tensorflow) (0.7.2)\n",
            "Requirement already satisfied: werkzeug>=1.0.1 in /usr/local/lib/python3.10/dist-packages (from tensorboard<2.16,>=2.15->tensorflow) (3.0.3)\n",
            "Requirement already satisfied: requests-oauthlib>=0.7.0 in /usr/local/lib/python3.10/dist-packages (from google-auth-oauthlib<2,>=0.5->tensorboard<2.16,>=2.15->tensorflow) (1.3.1)\n",
            "Requirement already satisfied: pyasn1<0.7.0,>=0.4.6 in /usr/local/lib/python3.10/dist-packages (from pyasn1-modules>=0.2.1->google-auth<3.0dev,>=1.25.0->google-cloud-storage) (0.6.0)\n",
            "Requirement already satisfied: MarkupSafe>=2.1.1 in /usr/local/lib/python3.10/dist-packages (from werkzeug>=1.0.1->tensorboard<2.16,>=2.15->tensorflow) (2.1.5)\n",
            "Requirement already satisfied: oauthlib>=3.0.0 in /usr/local/lib/python3.10/dist-packages (from requests-oauthlib>=0.7.0->google-auth-oauthlib<2,>=0.5->tensorboard<2.16,>=2.15->tensorflow) (3.2.2)\n",
            "Installing collected packages: Mako, colorlog, alembic, optuna\n",
            "Successfully installed Mako-1.3.5 alembic-1.13.1 colorlog-6.8.2 optuna-3.6.1\n"
          ]
        }
      ]
    }
  ]
}